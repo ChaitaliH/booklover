{
 "cells": [
  {
   "cell_type": "markdown",
   "id": "bbea800c-241d-42b4-a744-ecaffe13959e",
   "metadata": {},
   "source": [
    "# Metadata\n",
    "\n",
    "```yaml\n",
    "Course:  DS 5100\n",
    "Module:  09 Python Packages\n",
    "Topic:   HW Package Booklover\n",
    "Author:  R.C. Alvarado (adapted)\n",
    "Date:    7 July 2023 (revised)\n",
    "```"
   ]
  },
  {
   "cell_type": "markdown",
   "id": "36f46fdd-2405-4dc8-9ea1-33f395e56cc0",
   "metadata": {},
   "source": [
    "# Student Info\n",
    "\n",
    "* Name: Chaitali Harge\n",
    "* Net UD: afj8am\n",
    "* URL of this file in GitHub:"
   ]
  },
  {
   "cell_type": "markdown",
   "id": "375875a8-1503-46eb-8ea1-7e5bf39b5c41",
   "metadata": {},
   "source": [
    "# Instructions\n",
    "\n",
    "In your **private course repo on Rivanna**, use this Jupyter notebook and the data file described to write code that performs the tasks below. \n",
    "\n",
    "Save your notebook in the `M09` directory.\n",
    "\n",
    "Remember to add and commit these files to your repo. \n",
    "\n",
    "Then push your commits to your repo on GitHib.\n",
    "\n",
    "Be sure to fill out the **Student Info** block above.\n",
    "\n",
    "To submit your homework, save your results as a PDF and upload it to GradeScope. More information about how to create the PDF for this assignment are included at the end of this document.\n",
    "\n",
    "**TOTAL POINTS: 8**"
   ]
  },
  {
   "cell_type": "markdown",
   "id": "1baf08dc-35fe-44f1-bc26-7e1130ee993e",
   "metadata": {},
   "source": [
    "# Overview\n",
    "\n",
    "Follow the following recipe we used in class to package the code you wrote for `HW08` -- `booklover.py` and `booklover_test.py`.\n",
    "\n",
    "* Create a new git repo for your package.\n",
    "* Create and edit the required files and directories for your package and move the booklover modules there.\n",
    "* Stage, commit, and push all the files you've created.\n",
    "* Install your package with pip.\n",
    "* Outside of your package dir, write a script to test your method.\n",
    "\n",
    "Put this notebook in your repo. This will allow you to execute bash commands and capture the outpunt directly in the notebook.\n",
    "\n",
    "**TOTAL: 8 POINTS**"
   ]
  },
  {
   "cell_type": "markdown",
   "id": "6e39ba79-49ee-41e8-9e49-23d9d6bac2e0",
   "metadata": {
    "tags": []
   },
   "source": [
    "# Tasks"
   ]
  },
  {
   "cell_type": "markdown",
   "id": "fb11de14",
   "metadata": {},
   "source": [
    "## Task 1\n",
    "\n",
    "(5 points)\n",
    "\n",
    "Show the directory structure of your repo by running this command from the root of your repo:"
   ]
  },
  {
   "cell_type": "code",
   "execution_count": 6,
   "id": "7e6c6607",
   "metadata": {},
   "outputs": [
    {
     "name": "stdout",
     "output_type": "stream",
     "text": [
      "total 56\n",
      "-rw-r--r--  1 chaitaliharge  staff  8316 Jul 31 18:04 HWM09.ipynb\n",
      "-rw-r--r--  1 chaitaliharge  staff  1071 Jul 31 14:02 LICENSE\n",
      "-rw-r--r--  1 chaitaliharge  staff    11 Jul 31 14:02 README.md\n",
      "drwxr-xr-x  7 chaitaliharge  staff   224 Jul 31 17:16 \u001b[34mbook_package\u001b[m\u001b[m\n",
      "drwxr-xr-x  6 chaitaliharge  staff   192 Jul 31 18:01 \u001b[34mbook_package.egg-info\u001b[m\u001b[m\n",
      "-rw-r--r--  1 chaitaliharge  staff  2288 Jul 31 14:14 booklover_test.py\n",
      "-rw-r--r--@ 1 chaitaliharge  staff   309 Jul 31 16:47 setup.py\n",
      "\n",
      "./book_package:\n",
      "total 16\n",
      "-rw-r--r--  1 chaitaliharge  staff   231 Jul 31 17:16 __init__.py\n",
      "drwxr-xr-x  4 chaitaliharge  staff   128 Jul 31 17:16 \u001b[34m__pycache__\u001b[m\u001b[m\n",
      "-rw-r--r--  1 chaitaliharge  staff  1281 Jul 31 14:10 booklover.py\n",
      "\n",
      "./book_package/__pycache__:\n",
      "total 16\n",
      "-rw-r--r--  1 chaitaliharge  staff   235 Jul 31 17:16 __init__.cpython-310.pyc\n",
      "-rw-r--r--  1 chaitaliharge  staff  1596 Jul 31 16:54 booklover.cpython-310.pyc\n",
      "\n",
      "./book_package.egg-info:\n",
      "total 32\n",
      "-rw-r--r--  1 chaitaliharge  staff  236 Jul 31 18:01 PKG-INFO\n",
      "-rw-r--r--  1 chaitaliharge  staff  221 Jul 31 18:01 SOURCES.txt\n",
      "-rw-r--r--  1 chaitaliharge  staff    1 Jul 31 18:01 dependency_links.txt\n",
      "-rw-r--r--  1 chaitaliharge  staff   13 Jul 31 18:01 top_level.txt\n"
     ]
    }
   ],
   "source": [
    "!ls -lR"
   ]
  },
  {
   "cell_type": "markdown",
   "id": "6b6f288b-05aa-441b-8c73-84b50b3b6844",
   "metadata": {},
   "source": [
    "## Task 2\n",
    "\n",
    "(1 point)\n",
    "\n",
    "Put the URL of your GitHub repo here. Just paste it into a Markdown cell."
   ]
  },
  {
   "cell_type": "markdown",
   "id": "4d09d889-6104-4f20-b31c-2d8a72b17693",
   "metadata": {},
   "source": [
    "URL: https://github.com/ChaitaliH/booklover/tree/main"
   ]
  },
  {
   "cell_type": "markdown",
   "id": "f989dcd1-b1d2-4eb9-8ef6-8ca2d8495260",
   "metadata": {
    "lines_to_next_cell": 0
   },
   "source": [
    "## Task 3\n",
    "\n",
    "(1 point)\n",
    "\n",
    "Show the results of installing your package.\n",
    "\n",
    "```bash\n",
    "!pip install -e .\n",
    "```"
   ]
  },
  {
   "cell_type": "code",
   "execution_count": 2,
   "id": "5257af95-3a4b-4f81-a675-b4e423d795c1",
   "metadata": {},
   "outputs": [
    {
     "name": "stdout",
     "output_type": "stream",
     "text": [
      "Obtaining file:///Users/chaitaliharge/Data%20Science%20Learnings/DS%205100/booklover\n",
      "  Preparing metadata (setup.py) ... \u001b[?25ldone\n",
      "\u001b[?25hInstalling collected packages: book-package\n",
      "  Attempting uninstall: book-package\n",
      "    Found existing installation: book-package 0.1\n",
      "    Uninstalling book-package-0.1:\n",
      "      Successfully uninstalled book-package-0.1\n",
      "  Running setup.py develop for book-package\n",
      "Successfully installed book-package-0.1\n"
     ]
    }
   ],
   "source": [
    "!pip install -e /Users/chaitaliharge/\"Data Science Learnings\"/\"DS 5100\"/\"booklover\""
   ]
  },
  {
   "cell_type": "markdown",
   "id": "5b1a642e-74f0-43ff-97a3-9ddc7553978e",
   "metadata": {},
   "source": [
    "## Task 4\n",
    "\n",
    "(1 point)\n",
    "\n",
    "Create a file outside your repo to test your package by running it.\n",
    "\n",
    "To do this, import the package into your file and create a BookLover object.\n",
    "\n",
    "Then add a book and then print number books read.\n",
    "\n",
    "Then run the file. \n",
    "\n",
    "Show the output of running the file below, using a command like the following:\n",
    "\n",
    "```bash\n",
    "!python ../book_lover_demo.py\n",
    "```"
   ]
  },
  {
   "cell_type": "code",
   "execution_count": 5,
   "id": "097c048f-6d5e-4a01-8f0a-c6d13b61bb9c",
   "metadata": {},
   "outputs": [
    {
     "name": "stdout",
     "output_type": "stream",
     "text": [
      "Number of books read: 2\n"
     ]
    }
   ],
   "source": [
    "!python /Users/chaitaliharge/\"Data Science Learnings\"/\"DS 5100\"/DS5100-ChaitaliH/lessons/M09/book_lover_demo.py"
   ]
  },
  {
   "cell_type": "code",
   "execution_count": null,
   "id": "0a8ca95c-0853-4d83-9ed2-ae5fb282e47b",
   "metadata": {},
   "outputs": [],
   "source": []
  }
 ],
 "metadata": {
  "jupytext": {
   "cell_metadata_filter": "-all",
   "main_language": "bash",
   "notebook_metadata_filter": "-all"
  },
  "kernelspec": {
   "display_name": "Python 3 (ipykernel)",
   "language": "python",
   "name": "python3"
  },
  "language_info": {
   "codemirror_mode": {
    "name": "ipython",
    "version": 3
   },
   "file_extension": ".py",
   "mimetype": "text/x-python",
   "name": "python",
   "nbconvert_exporter": "python",
   "pygments_lexer": "ipython3",
   "version": "3.10.9"
  },
  "vscode": {
   "interpreter": {
    "hash": "c3b963de08c47c3b6758389c5e0978ad73698a111eb508d4e16b558edb8f4cbf"
   }
  },
  "widgets": {
   "application/vnd.jupyter.widget-state+json": {
    "state": {},
    "version_major": 2,
    "version_minor": 0
   }
  }
 },
 "nbformat": 4,
 "nbformat_minor": 5
}
